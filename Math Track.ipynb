{
 "cells": [
  {
   "cell_type": "markdown",
   "id": "522cece8-9f79-4d23-81d9-eda48b4a6d54",
   "metadata": {},
   "source": [
    "## Algebra 2"
   ]
  },
  {
   "cell_type": "markdown",
   "id": "05ef6dd3-f3fe-47ac-9c88-20ce21c6e058",
   "metadata": {},
   "source": [
    "__Polynomial arithmetic__"
   ]
  },
  {
   "cell_type": "markdown",
   "id": "e2a8a45e-d852-49bb-b166-9a3ed82c2088",
   "metadata": {},
   "source": [
    "Polynomial is basically __Ax^n__, where __A__ stands for coefficient, __x__ stands for term and __n__ stands for non-negative integer.\n",
    "Examples of polynomials are: _10x^3, 9, 5x^2_, whereas _10x^(-7)_ and _2x^(0.5)_ are not."
   ]
  },
  {
   "cell_type": "code",
   "execution_count": null,
   "id": "faaa735e-f3c7-467d-848c-4b26670fded1",
   "metadata": {},
   "outputs": [],
   "source": []
  }
 ],
 "metadata": {
  "kernelspec": {
   "display_name": "Python 3 (ipykernel)",
   "language": "python",
   "name": "python3"
  },
  "language_info": {
   "codemirror_mode": {
    "name": "ipython",
    "version": 3
   },
   "file_extension": ".py",
   "mimetype": "text/x-python",
   "name": "python",
   "nbconvert_exporter": "python",
   "pygments_lexer": "ipython3",
   "version": "3.10.6"
  }
 },
 "nbformat": 4,
 "nbformat_minor": 5
}
